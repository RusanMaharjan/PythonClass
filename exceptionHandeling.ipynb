{
 "cells": [
  {
   "cell_type": "code",
   "execution_count": 6,
   "metadata": {},
   "outputs": [
    {
     "name": "stdout",
     "output_type": "stream",
     "text": [
      "Enter age: ABC\n",
      "Please enter age in number.\n"
     ]
    }
   ],
   "source": [
    "#exception handeling\n",
    "#try, except, else and finally\n",
    "#try, raise, else, except\n",
    "try:\n",
    "    a = int(input(\"Enter age: \"))\n",
    "    print(\"Your age is: \",a)\n",
    "except:\n",
    "    print(\"Please enter age in number.\")"
   ]
  },
  {
   "cell_type": "code",
   "execution_count": 8,
   "metadata": {
    "scrolled": true
   },
   "outputs": [
    {
     "name": "stdout",
     "output_type": "stream",
     "text": [
      "Enter a: 10\n",
      "Enter b: 0\n",
      "Error\n"
     ]
    }
   ],
   "source": [
    "try:\n",
    "    a = int(input(\"Enter a: \"))\n",
    "    b = int(input(\"Enter b: \"))\n",
    "    c = a/b\n",
    "    print(c)\n",
    "except:\n",
    "    print(\"Error\")"
   ]
  },
  {
   "cell_type": "code",
   "execution_count": 10,
   "metadata": {},
   "outputs": [
    {
     "name": "stdout",
     "output_type": "stream",
     "text": [
      "Enter a: 10\n",
      "Enter b: 0\n",
      "The value of b can not be zero.\n"
     ]
    }
   ],
   "source": [
    "try:\n",
    "    a = int(input(\"Enter a: \"))\n",
    "    b = int(input(\"Enter b: \"))\n",
    "    c = a/b\n",
    "    print(c)\n",
    "except ZeroDivisionError:\n",
    "    print(\"The value of b can not be zero.\")\n",
    "except ValueError:\n",
    "    print(\"The a and b must be int\")"
   ]
  },
  {
   "cell_type": "code",
   "execution_count": 14,
   "metadata": {},
   "outputs": [
    {
     "name": "stdout",
     "output_type": "stream",
     "text": [
      "Enter a: 100\n",
      "Enter b: 900000\n",
      "0.00011111111111111112\n"
     ]
    }
   ],
   "source": [
    "#try and expect with recursive function\n",
    "def cal():\n",
    "    try:\n",
    "        a = int(input(\"Enter a: \"))\n",
    "        b = int(input(\"Enter b: \"))\n",
    "        c = a/b\n",
    "        print(c)\n",
    "    except ZeroDivisionError:\n",
    "        print(\"The value of b can not be zero.\")\n",
    "        cal()\n",
    "    except ValueError:\n",
    "        print(\"The a and b must be int\")\n",
    "        cal()\n",
    "cal()"
   ]
  },
  {
   "cell_type": "code",
   "execution_count": null,
   "metadata": {},
   "outputs": [],
   "source": []
  },
  {
   "cell_type": "code",
   "execution_count": null,
   "metadata": {},
   "outputs": [],
   "source": [
    "un = \"abc@gmail.com\"\n",
    "psw = \"123\"\n",
    "count = 1\n",
    "def acc():\n",
    "    global count\n",
    "    try:\n",
    "        a = input(\"Enter username: \")\n",
    "        b = input(\"Enter password: \")\n",
    "        assert ((un == a) & (psw == b))\n",
    "        if (count>=5):\n",
    "            raise ZeroDivisionError\n",
    "    except AssertionError:\n",
    "        print(\"Username and Password does not match.\")\n",
    "        count = count +1\n",
    "        acc()\n",
    "    except ZeroDivisionError:\n",
    "        print(\"You entered more than 5 times\")\n",
    "    else:\n",
    "        print(\"You have passed in following attemp\", count)\n",
    "acc()"
   ]
  },
  {
   "cell_type": "code",
   "execution_count": null,
   "metadata": {},
   "outputs": [],
   "source": []
  },
  {
   "cell_type": "code",
   "execution_count": null,
   "metadata": {},
   "outputs": [],
   "source": []
  },
  {
   "cell_type": "code",
   "execution_count": null,
   "metadata": {},
   "outputs": [],
   "source": []
  },
  {
   "cell_type": "code",
   "execution_count": null,
   "metadata": {},
   "outputs": [],
   "source": []
  },
  {
   "cell_type": "code",
   "execution_count": 23,
   "metadata": {},
   "outputs": [
    {
     "name": "stdout",
     "output_type": "stream",
     "text": [
      "Enter name: ram\n",
      "This is error\n"
     ]
    }
   ],
   "source": [
    "try:\n",
    "    name = input(\"Enter name: \")\n",
    "    if name[0].isupper():\n",
    "        raise NameError\n",
    "    else:\n",
    "        print(\"This is error\")\n",
    "except NameError:\n",
    "    print(\"This is correct\")"
   ]
  },
  {
   "cell_type": "code",
   "execution_count": 25,
   "metadata": {},
   "outputs": [
    {
     "name": "stdout",
     "output_type": "stream",
     "text": [
      "B is greater\n"
     ]
    }
   ],
   "source": [
    "a = 10\n",
    "b = 5\n",
    "assert b<a\n",
    "print(\"B is greater\")"
   ]
  },
  {
   "cell_type": "code",
   "execution_count": 28,
   "metadata": {},
   "outputs": [
    {
     "name": "stdout",
     "output_type": "stream",
     "text": [
      "b is smaller\n"
     ]
    }
   ],
   "source": [
    "try:\n",
    "    a = 10\n",
    "    b = 5\n",
    "    assert b<a\n",
    "    print(\"b is smaller\")\n",
    "except:\n",
    "    print(\"b is greater\")"
   ]
  },
  {
   "cell_type": "code",
   "execution_count": null,
   "metadata": {},
   "outputs": [],
   "source": []
  }
 ],
 "metadata": {
  "kernelspec": {
   "display_name": "Python 3",
   "language": "python",
   "name": "python3"
  },
  "language_info": {
   "codemirror_mode": {
    "name": "ipython",
    "version": 3
   },
   "file_extension": ".py",
   "mimetype": "text/x-python",
   "name": "python",
   "nbconvert_exporter": "python",
   "pygments_lexer": "ipython3",
   "version": "3.8.5"
  }
 },
 "nbformat": 4,
 "nbformat_minor": 4
}
