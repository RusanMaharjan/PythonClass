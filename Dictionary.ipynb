{
 "cells": [
  {
   "cell_type": "code",
   "execution_count": 1,
   "metadata": {},
   "outputs": [],
   "source": [
    "# a = {}\n",
    "# a = {<key>:<value>,<key>:<value>, <key>:<value>}"
   ]
  },
  {
   "cell_type": "code",
   "execution_count": 2,
   "metadata": {},
   "outputs": [
    {
     "data": {
      "text/plain": [
       "dict"
      ]
     },
     "execution_count": 2,
     "metadata": {},
     "output_type": "execute_result"
    }
   ],
   "source": [
    "a = {}\n",
    "type(a)"
   ]
  },
  {
   "cell_type": "code",
   "execution_count": 5,
   "metadata": {},
   "outputs": [
    {
     "name": "stdout",
     "output_type": "stream",
     "text": [
      "{'a': 'Apple', 'b': 'Ball'}\n"
     ]
    },
    {
     "data": {
      "text/plain": [
       "'Apple'"
      ]
     },
     "execution_count": 5,
     "metadata": {},
     "output_type": "execute_result"
    }
   ],
   "source": [
    "a = {\"a\":\"Apple\", \"b\":\"Ball\"}\n",
    "print(a)\n",
    "a[\"a\"]"
   ]
  },
  {
   "cell_type": "code",
   "execution_count": 6,
   "metadata": {},
   "outputs": [],
   "source": [
    "# - Mutable datatype\n",
    "# - It may have multiple values\n",
    "# - No duplicate index\n",
    "# - Ordered"
   ]
  },
  {
   "cell_type": "code",
   "execution_count": 7,
   "metadata": {},
   "outputs": [
    {
     "data": {
      "text/plain": [
       "{'a': 'Apple', 'b': 'Apple'}"
      ]
     },
     "execution_count": 7,
     "metadata": {},
     "output_type": "execute_result"
    }
   ],
   "source": [
    "a = {\"a\":\"Apple\", \"b\":\"Apple\"}\n",
    "a"
   ]
  },
  {
   "cell_type": "code",
   "execution_count": 10,
   "metadata": {},
   "outputs": [
    {
     "data": {
      "text/plain": [
       "{'a': 'Ant', 'b': 'Apple'}"
      ]
     },
     "execution_count": 10,
     "metadata": {},
     "output_type": "execute_result"
    }
   ],
   "source": [
    "a[\"a\"] = \"Ant\"\n",
    "a"
   ]
  },
  {
   "cell_type": "code",
   "execution_count": 12,
   "metadata": {},
   "outputs": [
    {
     "data": {
      "text/plain": [
       "{'a': 'Apple', 'b': 'Ball', 'c': 'Cat'}"
      ]
     },
     "execution_count": 12,
     "metadata": {},
     "output_type": "execute_result"
    }
   ],
   "source": [
    "a = {}\n",
    "a[\"a\"] = \"Apple\"\n",
    "a[\"b\"] = \"Ball\"\n",
    "a[\"c\"] = \"Cat\"\n",
    "a"
   ]
  },
  {
   "cell_type": "code",
   "execution_count": 13,
   "metadata": {},
   "outputs": [
    {
     "data": {
      "text/plain": [
       "{'a': 'Ant', 'b': 'Ball', 'c': 'Cat'}"
      ]
     },
     "execution_count": 13,
     "metadata": {},
     "output_type": "execute_result"
    }
   ],
   "source": [
    "a[\"a\"] = \"Ant\"\n",
    "a"
   ]
  },
  {
   "cell_type": "code",
   "execution_count": 14,
   "metadata": {},
   "outputs": [
    {
     "name": "stdout",
     "output_type": "stream",
     "text": [
      "a\n",
      "b\n",
      "c\n"
     ]
    }
   ],
   "source": [
    "#Gives only key/index\n",
    "for i in a:\n",
    "    print(i)"
   ]
  },
  {
   "cell_type": "code",
   "execution_count": 15,
   "metadata": {},
   "outputs": [
    {
     "name": "stdout",
     "output_type": "stream",
     "text": [
      "Ant\n",
      "Ball\n",
      "Cat\n"
     ]
    }
   ],
   "source": [
    "#Gives values\n",
    "for i in a.values():\n",
    "    print(i)"
   ]
  },
  {
   "cell_type": "code",
   "execution_count": 16,
   "metadata": {},
   "outputs": [
    {
     "name": "stdout",
     "output_type": "stream",
     "text": [
      "('a', 'Ant')\n",
      "('b', 'Ball')\n",
      "('c', 'Cat')\n"
     ]
    }
   ],
   "source": [
    "#Gives both key and values but changes it into tuple form.\n",
    "for i in a.items():\n",
    "    print(i)"
   ]
  },
  {
   "cell_type": "code",
   "execution_count": 17,
   "metadata": {},
   "outputs": [
    {
     "data": {
      "text/plain": [
       "[('a', 'Ant'), ('b', 'Ball'), ('c', 'Cat')]"
      ]
     },
     "execution_count": 17,
     "metadata": {},
     "output_type": "execute_result"
    }
   ],
   "source": [
    "key_values = []\n",
    "for i in a.items():\n",
    "    key_values.append(i)\n",
    "key_values"
   ]
  },
  {
   "cell_type": "code",
   "execution_count": 18,
   "metadata": {},
   "outputs": [
    {
     "data": {
      "text/plain": [
       "[['a', 'Ant'], ['b', 'Ball'], ['c', 'Cat']]"
      ]
     },
     "execution_count": 18,
     "metadata": {},
     "output_type": "execute_result"
    }
   ],
   "source": [
    "new_data = []\n",
    "for i in key_values:\n",
    "    j = list(i)\n",
    "    new_data.append(j)\n",
    "new_data"
   ]
  },
  {
   "cell_type": "code",
   "execution_count": 21,
   "metadata": {},
   "outputs": [
    {
     "data": {
      "text/plain": [
       "[['A', 'Ant'], ['b', 'Ball'], ['c', 'Cat']]"
      ]
     },
     "execution_count": 21,
     "metadata": {},
     "output_type": "execute_result"
    }
   ],
   "source": [
    "new_data[0][0] = \"A\"\n",
    "new_data"
   ]
  },
  {
   "cell_type": "code",
   "execution_count": 22,
   "metadata": {},
   "outputs": [
    {
     "name": "stdout",
     "output_type": "stream",
     "text": [
      "{'A': 'Ant', 'b': 'Ball', 'c': 'Cat'}\n"
     ]
    }
   ],
   "source": [
    "d = {}\n",
    "for k in new_data:\n",
    "    key = k[0]\n",
    "    value = k[1]\n",
    "    d[key] = value\n",
    "print(d)"
   ]
  },
  {
   "cell_type": "code",
   "execution_count": 24,
   "metadata": {},
   "outputs": [
    {
     "name": "stdout",
     "output_type": "stream",
     "text": [
      "Enter a number of people: 2\n",
      "Enter name: Ram\n",
      "Enter phone number: 123\n",
      "Enter name: Shyam\n",
      "Enter phone number: 456\n",
      "The information is: \n",
      " {'Ram': 123, 'Shyam': 456}\n"
     ]
    }
   ],
   "source": [
    "d = {}\n",
    "n = int(input(\"Enter a number of people: \"))\n",
    "for i in range(n):\n",
    "    name = input(\"Enter name: \")\n",
    "    phone = int(input(\"Enter phone number: \"))\n",
    "    d[name] = phone\n",
    "print(\"The information is: \\n\",d)"
   ]
  },
  {
   "cell_type": "code",
   "execution_count": 25,
   "metadata": {},
   "outputs": [
    {
     "data": {
      "text/plain": [
       "123"
      ]
     },
     "execution_count": 25,
     "metadata": {},
     "output_type": "execute_result"
    }
   ],
   "source": [
    "d[\"Ram\"]"
   ]
  },
  {
   "cell_type": "code",
   "execution_count": 26,
   "metadata": {},
   "outputs": [
    {
     "data": {
      "text/plain": [
       "456"
      ]
     },
     "execution_count": 26,
     "metadata": {},
     "output_type": "execute_result"
    }
   ],
   "source": [
    "d[\"Shyam\"]"
   ]
  },
  {
   "cell_type": "code",
   "execution_count": 27,
   "metadata": {},
   "outputs": [],
   "source": [
    "#We can update/add/delete/remove/pop in dictionary but cannot use mathmematical operations"
   ]
  },
  {
   "cell_type": "code",
   "execution_count": 29,
   "metadata": {},
   "outputs": [
    {
     "data": {
      "text/plain": [
       "{'a': 'Apple', 'b': 'Ball'}"
      ]
     },
     "execution_count": 29,
     "metadata": {},
     "output_type": "execute_result"
    }
   ],
   "source": [
    "a = {\"a\":\"Apple\"}\n",
    "b = {\"b\":\"Ball\"}\n",
    "a.update(b)\n",
    "a"
   ]
  },
  {
   "cell_type": "code",
   "execution_count": 31,
   "metadata": {},
   "outputs": [
    {
     "data": {
      "text/plain": [
       "{'b': 'Ball'}"
      ]
     },
     "execution_count": 31,
     "metadata": {},
     "output_type": "execute_result"
    }
   ],
   "source": [
    "d = {'a': 'Apple', 'b': 'Ball'}\n",
    "del d[\"a\"] #delete values using index/key\n",
    "d"
   ]
  },
  {
   "cell_type": "code",
   "execution_count": 33,
   "metadata": {},
   "outputs": [
    {
     "name": "stdout",
     "output_type": "stream",
     "text": [
      "{'b': 'Ball'}\n"
     ]
    }
   ],
   "source": [
    "d = {'a': 'Apple', 'b': 'Ball'}\n",
    "d.pop(\"a\")\n",
    "print(d)"
   ]
  },
  {
   "cell_type": "code",
   "execution_count": 34,
   "metadata": {},
   "outputs": [],
   "source": [
    "# - MultiDimensional Dictionary i.e- Inserting multiple data in dictionary"
   ]
  },
  {
   "cell_type": "code",
   "execution_count": 35,
   "metadata": {},
   "outputs": [
    {
     "data": {
      "text/plain": [
       "{}"
      ]
     },
     "execution_count": 35,
     "metadata": {},
     "output_type": "execute_result"
    }
   ],
   "source": [
    "d = {'a': 'Apple', 'b': 'Ball'}\n",
    "d.clear() # clear values inside variable (Can use in all datatypes)\n",
    "d"
   ]
  },
  {
   "cell_type": "code",
   "execution_count": 36,
   "metadata": {},
   "outputs": [],
   "source": [
    "#List inside dictionary"
   ]
  },
  {
   "cell_type": "code",
   "execution_count": 39,
   "metadata": {},
   "outputs": [
    {
     "name": "stdout",
     "output_type": "stream",
     "text": [
      "{'a': ['Apple', 'Ant'], 'b': ['Ball', 'Bat']}\n",
      "['Apple', 'Ant']\n",
      "Apple\n"
     ]
    }
   ],
   "source": [
    "a = {\"a\":[\"Apple\", \"Ant\"], \"b\":[\"Ball\", \"Bat\"]}\n",
    "print(a) #print whole data\n",
    "print(a[\"a\"]) #print value of index \"a\"\n",
    "print(a[\"a\"][0]) # print value(index of value) of index \"a\"."
   ]
  },
  {
   "cell_type": "code",
   "execution_count": 41,
   "metadata": {},
   "outputs": [
    {
     "name": "stdout",
     "output_type": "stream",
     "text": [
      "Enter a number of people: 2\n",
      "Enter name: Ram\n",
      "Enter ntc phone number: 9845612345\n",
      "Enter ncell phone number: 9810123465\n",
      "Enter name: Shyam\n",
      "Enter ntc phone number: 9845678945\n",
      "Enter ncell phone number: 9810534789\n",
      "The information is: \n",
      " {'Ram': [9845612345, 9810123465], 'Shyam': [9845678945, 9810534789]}\n"
     ]
    }
   ],
   "source": [
    "#inserting multiple data dynamically inside multidimensional dictionary..\n",
    "d = {}\n",
    "n = int(input(\"Enter a number of people: \"))\n",
    "for i in range(n):\n",
    "    name = input(\"Enter name: \")\n",
    "    ntc_phone = int(input(\"Enter ntc phone number: \"))\n",
    "    ncell_phone = int(input(\"Enter ncell phone number: \"))\n",
    "    d[name] = [ntc_phone, ncell_phone]#This is in list form. If user wants to change this into tuple then only change bracket into ()\n",
    "print(\"The information is: \\n\",d)"
   ]
  },
  {
   "cell_type": "code",
   "execution_count": 45,
   "metadata": {},
   "outputs": [
    {
     "data": {
      "text/plain": [
       "{'Ram': [9845612345, 9810123465, '9845678945'],\n",
       " 'Shyam': [9845678945, 9810534789]}"
      ]
     },
     "execution_count": 45,
     "metadata": {},
     "output_type": "execute_result"
    }
   ],
   "source": [
    "d =  {'Ram': [9845612345, 9810123465], 'Shyam': [9845678945, 9810534789]}\n",
    "d[\"Ram\"].append(\"9845678945\")\n",
    "d"
   ]
  },
  {
   "cell_type": "code",
   "execution_count": 47,
   "metadata": {},
   "outputs": [
    {
     "data": {
      "text/plain": [
       "{'Ram': [9845612345, 9810123465, 9822222222],\n",
       " 'Shyam': [9845678945, 9810534789]}"
      ]
     },
     "execution_count": 47,
     "metadata": {},
     "output_type": "execute_result"
    }
   ],
   "source": [
    "d[\"Ram\"][2] = 9822222222\n",
    "d"
   ]
  },
  {
   "cell_type": "code",
   "execution_count": 51,
   "metadata": {},
   "outputs": [
    {
     "ename": "KeyError",
     "evalue": "'Ram'",
     "output_type": "error",
     "traceback": [
      "\u001b[1;31m---------------------------------------------------------------------------\u001b[0m",
      "\u001b[1;31mKeyError\u001b[0m                                  Traceback (most recent call last)",
      "\u001b[1;32m<ipython-input-51-98729287afe5>\u001b[0m in \u001b[0;36m<module>\u001b[1;34m\u001b[0m\n\u001b[1;32m----> 1\u001b[1;33m \u001b[1;32mdel\u001b[0m \u001b[0md\u001b[0m\u001b[1;33m[\u001b[0m\u001b[1;34m\"Ram\"\u001b[0m\u001b[1;33m]\u001b[0m\u001b[1;33m[\u001b[0m\u001b[1;36m2\u001b[0m\u001b[1;33m]\u001b[0m\u001b[1;33m\u001b[0m\u001b[1;33m\u001b[0m\u001b[0m\n\u001b[0m\u001b[0;32m      2\u001b[0m \u001b[0md\u001b[0m\u001b[1;33m\u001b[0m\u001b[1;33m\u001b[0m\u001b[0m\n",
      "\u001b[1;31mKeyError\u001b[0m: 'Ram'"
     ]
    }
   ],
   "source": [
    "del d[\"Ram\"][2]\n",
    "d"
   ]
  },
  {
   "cell_type": "code",
   "execution_count": 6,
   "metadata": {},
   "outputs": [
    {
     "name": "stdout",
     "output_type": "stream",
     "text": [
      "Enter a number of people: 2\n",
      "Enter name: Ram\n",
      "Enter price: 45\n",
      "Enter quantity: 2\n",
      "Enter name: Shyam\n",
      "Enter price: 12\n",
      "Enter quantity: 5\n",
      "The information is: \n",
      " {'Ram': [45, 2, 90], 'Shyam': [12, 5, 60]}\n"
     ]
    }
   ],
   "source": [
    "#inserting multiple data dynamically inside multidimensional dictionary..\n",
    "d = {}\n",
    "n = int(input(\"Enter a number of people: \"))\n",
    "for i in range(n):\n",
    "    name = input(\"Enter name: \")\n",
    "    price = int(input(\"Enter price: \"))\n",
    "    quantity = int(input(\"Enter quantity: \"))\n",
    "    total = price*quantity\n",
    "    d[name] = [price, quantity, total]#This is in list form. If user wants to change this into tuple then only change bracket [] into ()\n",
    "print(\"The information is: \\n\",d)"
   ]
  },
  {
   "cell_type": "code",
   "execution_count": 4,
   "metadata": {},
   "outputs": [],
   "source": [
    "#dictionary inside list\n",
    "a = [{\"Name\":\"Ram\",\"Phone\":9840539880},\n",
    "     {\"Name\":\"Shyam\",\"phone\":\"9845678945\"},\n",
    "     {\"Name\":\"Hari\",\"phone\":\"9841379465\"}]"
   ]
  },
  {
   "cell_type": "code",
   "execution_count": 5,
   "metadata": {},
   "outputs": [
    {
     "name": "stdout",
     "output_type": "stream",
     "text": [
      "{'Name': 'Ram', 'Phone': 9840539880}\n",
      "{'Name': 'Shyam', 'phone': '9845678945'}\n",
      "{'Name': 'Hari', 'phone': '9841379465'}\n"
     ]
    }
   ],
   "source": [
    "for i in a:\n",
    "    print(i)"
   ]
  },
  {
   "cell_type": "code",
   "execution_count": 1,
   "metadata": {},
   "outputs": [
    {
     "name": "stdout",
     "output_type": "stream",
     "text": [
      "Enter a number of product added to cart: 4\n",
      "Enter name: Apple\n",
      "Enter price: 120\n",
      "Enter quantity: 1\n",
      "Enter name: Banana\n",
      "Enter price: 60\n",
      "Enter quantity: 12\n",
      "Enter name: Ball\n",
      "Enter price: 60\n",
      "Enter quantity: 20\n",
      "Enter name: Remote Control Car\n",
      "Enter price: 2000\n",
      "Enter quantity: 2\n",
      "The information is: \n",
      " [{'Name': 'Apple', 'Price': 120, 'Quantity': 1, 'Total': 120}, {'Name': 'Banana', 'Price': 60, 'Quantity': 12, 'Total': 720}, {'Name': 'Ball', 'Price': 60, 'Quantity': 20, 'Total': 1200}, {'Name': 'Remote Control Car', 'Price': 2000, 'Quantity': 2, 'Total': 4000}]\n",
      "The total value of product is:  6040\n"
     ]
    }
   ],
   "source": [
    "#inserting multiple data dynamically inside multidimensional dictionary..\n",
    "d = []\n",
    "s = 0\n",
    "n = int(input(\"Enter a number of product added to cart: \"))\n",
    "for i in range(n):\n",
    "    name = input(\"Enter name: \")\n",
    "    price = int(input(\"Enter price: \"))\n",
    "    quantity = int(input(\"Enter quantity: \"))\n",
    "    total = price*quantity\n",
    "    s = s+total\n",
    "    data = {\"Name\":name, \"Price\":price, \"Quantity\":quantity, \"Total\":total}\n",
    "    d.append(data)\n",
    "print(\"The information is: \\n\",d)\n",
    "print(\"The total value of product is: \",s)"
   ]
  },
  {
   "cell_type": "code",
   "execution_count": 18,
   "metadata": {},
   "outputs": [
    {
     "data": {
      "text/plain": [
       "400"
      ]
     },
     "execution_count": 18,
     "metadata": {},
     "output_type": "execute_result"
    }
   ],
   "source": [
    "d[0][\"Price\"] = 200\n",
    "q = d[0][\"Quantity\"]\n",
    "total = d[0][\"Price\"]*q\n",
    "total"
   ]
  },
  {
   "cell_type": "code",
   "execution_count": 20,
   "metadata": {},
   "outputs": [
    {
     "data": {
      "text/plain": [
       "[{'Name': 'Apple', 'Price': 200, 'Quantity': 2, 'Total': 400},\n",
       " {'Name': 'Banana', 'Price': 150, 'Quantity': 24, 'Total': 3600}]"
      ]
     },
     "execution_count": 20,
     "metadata": {},
     "output_type": "execute_result"
    }
   ],
   "source": [
    "d[0][\"Total\"] = total;\n",
    "d"
   ]
  },
  {
   "cell_type": "code",
   "execution_count": 7,
   "metadata": {},
   "outputs": [
    {
     "ename": "IndentationError",
     "evalue": "expected an indented block (<ipython-input-7-e6b88ed69531>, line 12)",
     "output_type": "error",
     "traceback": [
      "\u001b[1;36m  File \u001b[1;32m\"<ipython-input-7-e6b88ed69531>\"\u001b[1;36m, line \u001b[1;32m12\u001b[0m\n\u001b[1;33m    q = int(input(\"Enter new quantity: \"))\u001b[0m\n\u001b[1;37m    ^\u001b[0m\n\u001b[1;31mIndentationError\u001b[0m\u001b[1;31m:\u001b[0m expected an indented block\n"
     ]
    }
   ],
   "source": [
    "d = [{'Name': 'Apple', 'Price': 200, 'Quantity': 2, 'Total': 400},\n",
    " {'Name': 'Banana', 'Price': 150, 'Quantity': 24, 'Total': 3600}]\n",
    "\n",
    "print(\"Enter 1 to Change Quantity.\")\n",
    "print(\"Enter 2 to Change Price.\")\n",
    "print(\"Enter 3 to Change Both Quantity and Price.\")\n",
    "\n",
    "change = int(input(\"Enter value: \"))\n",
    "\n",
    "def change1():\n",
    "    if change == 1:\n",
    "    q = int(input(\"Enter new quantity: \"))    \n",
    "    i = int(input(\"Enter index: \"))\n",
    "    d[i][\"Quantity\"] = q\n",
    "    total = d[i][\"Price\"]*q\n",
    "    d[i][\"Total\"] = total\n",
    "    print(d)\n",
    "    print(total)\n",
    "change1()\n",
    "    \n",
    "\n",
    "def change2():\n",
    "    if change == 2:\n",
    "        p = int(input(\"Enter new price: \"))    \n",
    "        i = int(input(\"Enter index: \"))\n",
    "        d[i][\"Price\"] = p\n",
    "        total = p*d[i][\"Quantity\"]\n",
    "        d[i][\"Total\"] = total\n",
    "    print(d)\n",
    "    print(total)\n",
    "change2()\n",
    "    \n",
    "\n",
    "def change3():\n",
    "    if change == 3:\n",
    "        q = int(input(\"Enter new quantity: \"))\n",
    "        p = int(input(\"Enter new price: \"))    \n",
    "        i = int(input(\"Enter index: \"))\n",
    "        d[i][\"Quantity\"] = q\n",
    "        d[i][\"Price\"] = p\n",
    "        total = p*q\n",
    "        d[i][\"Total\"] = total\n",
    "    print(d)\n",
    "    print(total)\n",
    "change3()\n"
   ]
  },
  {
   "cell_type": "code",
   "execution_count": 4,
   "metadata": {},
   "outputs": [],
   "source": [
    "# WAP for result management system (Update the marks is required)"
   ]
  },
  {
   "cell_type": "code",
   "execution_count": 6,
   "metadata": {},
   "outputs": [
    {
     "name": "stdout",
     "output_type": "stream",
     "text": [
      "Enter the number of students whose marks are required: 2\n",
      "Enter name of student: Ram\n",
      "Enter marks of math: 50\n",
      "Enter marks of english: 50\n",
      "Enter marks of science: 50\n",
      "Enter marks of account: 50\n",
      "Enter name of student: Shyam\n",
      "Enter marks of math: 90\n",
      "Enter marks of english: 90\n",
      "Enter marks of science: 90\n",
      "Enter marks of account: 90\n",
      "The marks of student is:  [{'Name': 'Ram', 'Math': 50, 'English': 50, 'Science': 50, 'Account': 50, 'Total': 200, 'Percent': 50.0}, {'Name': 'Shyam', 'Math': 90, 'English': 90, 'Science': 90, 'Account': 90, 'Total': 360, 'Percent': 90.0}]\n"
     ]
    }
   ],
   "source": [
    "data = []\n",
    "total = 0\n",
    "num = int(input(\"Enter the number of students whose marks are required: \"))\n",
    "for i in range(num):\n",
    "    name = input(\"Enter name of student: \")\n",
    "    math = int(input(\"Enter marks of math: \"))\n",
    "    english = int(input(\"Enter marks of english: \"))\n",
    "    science = int(input(\"Enter marks of science: \"))\n",
    "    account = int(input(\"Enter marks of account: \"))\n",
    "    total = math + english + science + account\n",
    "    percent = total/4\n",
    "    #b[name] = [math, english, science, account, total, percent]\n",
    "    marks = {\"Name\":name, \"Math\":math, \"English\":english, \"Science\":science, \"Account\":account, \"Total\":total, \"Percent\":percent}\n",
    "    data.append(marks)\n",
    "print(\"The marks of student is: \",data)"
   ]
  },
  {
   "cell_type": "code",
   "execution_count": 9,
   "metadata": {},
   "outputs": [
    {
     "name": "stdout",
     "output_type": "stream",
     "text": [
      "{'Ram': {'Physics': 90, 'Chemestry': 78, 'Math': 70, 'English': 67}, 'Shyam': {'Physics': 80, 'Chemestry': 80, 'Math': 80, 'English': 80}}\n"
     ]
    }
   ],
   "source": [
    "#dictionary inside dictionary\n",
    "\n",
    "a = {\"Ram\":{\"Physics\":90, \"Chemestry\":78, \"Math\":70, \"English\":67},\n",
    "    \"Shyam\":{\"Physics\":80, \"Chemestry\":80, \"Math\":80, \"English\":80}}\n",
    "print(a)"
   ]
  },
  {
   "cell_type": "code",
   "execution_count": 18,
   "metadata": {},
   "outputs": [
    {
     "ename": "KeyError",
     "evalue": "'Ram'",
     "output_type": "error",
     "traceback": [
      "\u001b[1;31m---------------------------------------------------------------------------\u001b[0m",
      "\u001b[1;31mKeyError\u001b[0m                                  Traceback (most recent call last)",
      "\u001b[1;32m<ipython-input-18-d3624c328c83>\u001b[0m in \u001b[0;36m<module>\u001b[1;34m\u001b[0m\n\u001b[1;32m----> 1\u001b[1;33m \u001b[0mprint\u001b[0m\u001b[1;33m(\u001b[0m\u001b[0ma\u001b[0m\u001b[1;33m[\u001b[0m\u001b[1;34m\"Ram\"\u001b[0m\u001b[1;33m]\u001b[0m\u001b[1;33m)\u001b[0m\u001b[1;33m\u001b[0m\u001b[1;33m\u001b[0m\u001b[0m\n\u001b[0m\u001b[0;32m      2\u001b[0m \u001b[0mprint\u001b[0m\u001b[1;33m(\u001b[0m\u001b[0ma\u001b[0m\u001b[1;33m[\u001b[0m\u001b[1;34m\"Shyam\"\u001b[0m\u001b[1;33m]\u001b[0m\u001b[1;33m)\u001b[0m\u001b[1;33m\u001b[0m\u001b[1;33m\u001b[0m\u001b[0m\n\u001b[0;32m      3\u001b[0m \u001b[0ma\u001b[0m\u001b[1;33m[\u001b[0m\u001b[1;34m\"Ram\"\u001b[0m\u001b[1;33m]\u001b[0m\u001b[1;33m[\u001b[0m\u001b[1;34m\"Computer\"\u001b[0m\u001b[1;33m]\u001b[0m \u001b[1;33m=\u001b[0m \u001b[1;36m99\u001b[0m\u001b[1;33m\u001b[0m\u001b[1;33m\u001b[0m\u001b[0m\n\u001b[0;32m      4\u001b[0m \u001b[0mprint\u001b[0m\u001b[1;33m(\u001b[0m\u001b[0ma\u001b[0m\u001b[1;33m)\u001b[0m\u001b[1;33m\u001b[0m\u001b[1;33m\u001b[0m\u001b[0m\n",
      "\u001b[1;31mKeyError\u001b[0m: 'Ram'"
     ]
    }
   ],
   "source": [
    "print(a[\"Ram\"])\n",
    "print(a[\"Shyam\"])\n",
    "a[\"Ram\"][\"Computer\"] = 99\n",
    "print(a)"
   ]
  },
  {
   "cell_type": "code",
   "execution_count": 11,
   "metadata": {},
   "outputs": [
    {
     "name": "stdout",
     "output_type": "stream",
     "text": [
      "90\n"
     ]
    }
   ],
   "source": [
    "print(a[\"Ram\"][\"Physics\"])"
   ]
  },
  {
   "cell_type": "code",
   "execution_count": 16,
   "metadata": {},
   "outputs": [
    {
     "ename": "KeyError",
     "evalue": "'Ram'",
     "output_type": "error",
     "traceback": [
      "\u001b[1;31m---------------------------------------------------------------------------\u001b[0m",
      "\u001b[1;31mKeyError\u001b[0m                                  Traceback (most recent call last)",
      "\u001b[1;32m<ipython-input-16-c3f83ab107e3>\u001b[0m in \u001b[0;36m<module>\u001b[1;34m\u001b[0m\n\u001b[1;32m----> 1\u001b[1;33m \u001b[0ma\u001b[0m\u001b[1;33m[\u001b[0m\u001b[1;34m\"Ram\"\u001b[0m\u001b[1;33m]\u001b[0m\u001b[1;33m[\u001b[0m\u001b[1;34m\"Physics\"\u001b[0m\u001b[1;33m]\u001b[0m \u001b[1;33m=\u001b[0m \u001b[1;36m100\u001b[0m\u001b[1;33m\u001b[0m\u001b[1;33m\u001b[0m\u001b[0m\n\u001b[0m\u001b[0;32m      2\u001b[0m \u001b[0ma\u001b[0m\u001b[1;33m\u001b[0m\u001b[1;33m\u001b[0m\u001b[0m\n\u001b[0;32m      3\u001b[0m \u001b[0ma\u001b[0m\u001b[1;33m[\u001b[0m\u001b[1;34m\"Ram\"\u001b[0m\u001b[1;33m]\u001b[0m\u001b[1;33m[\u001b[0m\u001b[1;34m\"Computer\"\u001b[0m\u001b[1;33m]\u001b[0m \u001b[1;33m=\u001b[0m \u001b[1;36m99\u001b[0m\u001b[1;33m\u001b[0m\u001b[1;33m\u001b[0m\u001b[0m\n\u001b[0;32m      4\u001b[0m \u001b[0ma\u001b[0m\u001b[1;33m\u001b[0m\u001b[1;33m\u001b[0m\u001b[0m\n",
      "\u001b[1;31mKeyError\u001b[0m: 'Ram'"
     ]
    }
   ],
   "source": [
    "a[\"Ram\"][\"Physics\"] = 100\n",
    "a\n"
   ]
  },
  {
   "cell_type": "code",
   "execution_count": 15,
   "metadata": {},
   "outputs": [
    {
     "name": "stdout",
     "output_type": "stream",
     "text": [
      "{'A': 'Apple'}\n",
      "{'A': ['Apple', ['Ant']]}\n",
      "{('A', 'a'): 'Apple'}\n",
      "{'A': ('Apple', 'Ant')}\n"
     ]
    }
   ],
   "source": [
    "a = {\"A\":\"Apple\"}\n",
    "b = {\"A\":[\"Apple\", [\"Ant\"]]}\n",
    "#c = {[\"A\", \"a\"]:\"Apple\"} #Cannot use dictionary inside dictionary or dictionary inside list but can use dictionary inside tuple\n",
    "#because dictionary and list are mutable data type and tuple is immutable datatype\n",
    "c = {(\"A\", \"a\"):\"Apple\"}\n",
    "d = {\"A\":(\"Apple\", \"Ant\")}\n",
    "print(a)\n",
    "print(b)\n",
    "print(c)\n",
    "print(d)"
   ]
  },
  {
   "cell_type": "code",
   "execution_count": 20,
   "metadata": {},
   "outputs": [
    {
     "name": "stdout",
     "output_type": "stream",
     "text": [
      "Enter a number of product added to cart: 2\n",
      "Enter name: Apple\n",
      "Enter price: 20\n",
      "Enter quantity: 120\n",
      "Enter name: Banana\n",
      "Enter price: 30\n",
      "Enter quantity: 120\n",
      "The information is: \n",
      " {'Apple': {'Price': 20, 'Quantity': 120, 'Total': 2400}, 'Banana': {'Price': 30, 'Quantity': 120, 'Total': 3600}}\n",
      "The total value of product is:  6000\n"
     ]
    }
   ],
   "source": [
    "#inserting multiple data dynamically inside multidimensional dictionary..\n",
    "d = {}\n",
    "s = 0\n",
    "n = int(input(\"Enter a number of product added to cart: \"))\n",
    "for i in range(n):\n",
    "    name = input(\"Enter name: \")\n",
    "    price = int(input(\"Enter price: \"))\n",
    "    quantity = int(input(\"Enter quantity: \"))\n",
    "    total = price*quantity\n",
    "    s = s+total\n",
    "    d[name]= {\"Price\":price, \"Quantity\":quantity, \"Total\":total}\n",
    "print(\"The information is: \\n\",d)\n",
    "print(\"The total value of product is: \",s)"
   ]
  },
  {
   "cell_type": "code",
   "execution_count": null,
   "metadata": {},
   "outputs": [],
   "source": []
  }
 ],
 "metadata": {
  "kernelspec": {
   "display_name": "Python 3",
   "language": "python",
   "name": "python3"
  },
  "language_info": {
   "codemirror_mode": {
    "name": "ipython",
    "version": 3
   },
   "file_extension": ".py",
   "mimetype": "text/x-python",
   "name": "python",
   "nbconvert_exporter": "python",
   "pygments_lexer": "ipython3",
   "version": "3.8.5"
  }
 },
 "nbformat": 4,
 "nbformat_minor": 4
}
