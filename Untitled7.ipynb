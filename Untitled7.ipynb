{
 "cells": [
  {
   "cell_type": "code",
   "execution_count": 1,
   "metadata": {},
   "outputs": [
    {
     "name": "stdout",
     "output_type": "stream",
     "text": [
      "Enter a number: 2\n",
      "Enter name of customer: Rusan\n",
      "Enter name of product: Coca-Cola\n",
      "Enter quantity of product: 5\n",
      "Enter price of a product: 20\n",
      "Enter name of customer: Skidrow\n",
      "Enter name of product: Fanta\n",
      "Enter quantity of product: 5\n",
      "Enter price of a product: 20\n"
     ]
    },
    {
     "data": {
      "text/plain": [
       "[[1, 'Rusan', 'Coca-Cola', 5, 20, 100], [2, 'Skidrow', 'Fanta', 5, 20, 100]]"
      ]
     },
     "execution_count": 1,
     "metadata": {},
     "output_type": "execute_result"
    }
   ],
   "source": [
    "#Write a program for billing system having product, quantity, price, total_price\n",
    "bill = []\n",
    "n = int(input(\"Enter a number: \"))\n",
    "for i in range(1, n+1):\n",
    "    name = input(\"Enter name of customer: \")\n",
    "    product = input(\"Enter name of product: \")\n",
    "    quantity = int(input(\"Enter quantity of product: \"))\n",
    "    price = int(input(\"Enter price of a product: \"))\n",
    "    total_price = quantity*price\n",
    "    details = [i, name, product, quantity, price, total_price]\n",
    "    bill.append(details)\n",
    "bill"
   ]
  },
  {
   "cell_type": "code",
   "execution_count": 5,
   "metadata": {},
   "outputs": [
    {
     "data": {
      "text/plain": [
       "[[1, 'Rusan', 'Sprite', 5, 20, 100], [2, 'Skidrow', 'Fanta', 5, 20, 100]]"
      ]
     },
     "execution_count": 5,
     "metadata": {},
     "output_type": "execute_result"
    }
   ],
   "source": [
    "bill[0][3] = 5\n",
    "bill"
   ]
  },
  {
   "cell_type": "code",
   "execution_count": 6,
   "metadata": {},
   "outputs": [
    {
     "data": {
      "text/plain": [
       "[[1, 'Rusan', 'Sprite', 5, 20, 100], [2, 'Skidrow', 'Fanta', 10, 20, 200]]"
      ]
     },
     "execution_count": 6,
     "metadata": {},
     "output_type": "execute_result"
    }
   ],
   "source": [
    "bill[1][3] = 10\n",
    "bill[1][-1] = bill[1][3]*bill[1][4]\n",
    "bill"
   ]
  },
  {
   "cell_type": "code",
   "execution_count": null,
   "metadata": {},
   "outputs": [],
   "source": []
  }
 ],
 "metadata": {
  "kernelspec": {
   "display_name": "Python 3",
   "language": "python",
   "name": "python3"
  },
  "language_info": {
   "codemirror_mode": {
    "name": "ipython",
    "version": 3
   },
   "file_extension": ".py",
   "mimetype": "text/x-python",
   "name": "python",
   "nbconvert_exporter": "python",
   "pygments_lexer": "ipython3",
   "version": "3.8.5"
  }
 },
 "nbformat": 4,
 "nbformat_minor": 4
}
