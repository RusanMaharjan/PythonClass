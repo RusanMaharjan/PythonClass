{
 "cells": [
  {
   "cell_type": "code",
   "execution_count": 1,
   "metadata": {},
   "outputs": [],
   "source": [
    "#If else loop"
   ]
  },
  {
   "cell_type": "code",
   "execution_count": 4,
   "metadata": {},
   "outputs": [
    {
     "name": "stdout",
     "output_type": "stream",
     "text": [
      "Enter first number: 4\n",
      "Enter second number: 5\n",
      "B is greater number.\n"
     ]
    }
   ],
   "source": [
    "a = int(input(\"Enter first number: \"))\n",
    "b = int(input(\"Enter second number: \"))\n",
    "\n",
    "if a>b:\n",
    "    print(\"A is greater number.\")\n",
    "elif a<b:\n",
    "    print(\"B is greater number.\")\n",
    "else:\n",
    "    print(\"Both are equal numbers.\")"
   ]
  },
  {
   "cell_type": "code",
   "execution_count": 5,
   "metadata": {},
   "outputs": [
    {
     "name": "stdout",
     "output_type": "stream",
     "text": [
      "Enter age: 15\n",
      "Enter name: Rusan\n",
      "You are not eligible to access this site.\n"
     ]
    }
   ],
   "source": [
    "a = int(input(\"Enter age: \"))\n",
    "b = input(\"Enter name: \")\n",
    "\n",
    "if a>=18:\n",
    "    print(\"You can access this site.\")\n",
    "else:\n",
    "    print(\"You are not eligible to access this site.\")"
   ]
  },
  {
   "cell_type": "code",
   "execution_count": 10,
   "metadata": {},
   "outputs": [
    {
     "name": "stdout",
     "output_type": "stream",
     "text": [
      "Enter first number: 5\n",
      "Enter second number: 5\n",
      "Enter operator +,-,*,/,%: +\n",
      "10\n"
     ]
    }
   ],
   "source": [
    "a = int(input(\"Enter first number: \"))\n",
    "b = int(input(\"Enter second number: \"))\n",
    "o = input(\"Enter operator +,-,*,/,%: \")\n",
    "\n",
    "if o == '+':\n",
    "    print(a+b)\n",
    "elif o == '-':\n",
    "    print(a-b)\n",
    "elif o == '*':\n",
    "    print(a*b)\n",
    "elif o== '/':\n",
    "    print(a/b)\n",
    "elif o == '%':\n",
    "    print(a%b)\n",
    "else:\n",
    "    print(\"Invalid Operator...\")"
   ]
  },
  {
   "cell_type": "code",
   "execution_count": 12,
   "metadata": {},
   "outputs": [
    {
     "name": "stdout",
     "output_type": "stream",
     "text": [
      "Enter length: 4\n",
      "Enter breadth: 4\n",
      "Enter height: 4\n",
      "16.0\n",
      "64.0\n"
     ]
    }
   ],
   "source": [
    "def area(l,b):\n",
    "    return l*b\n",
    "\n",
    "def volume(l,b,h):\n",
    "    return l*b*h\n",
    "\n",
    "l = float(input(\"Enter length: \"))\n",
    "b = float(input(\"Enter breadth: \"))\n",
    "h = float(input(\"Enter height: \"))\n",
    "\n",
    "print(area(l,b))\n",
    "print(volume(l,b,h))"
   ]
  },
  {
   "cell_type": "code",
   "execution_count": null,
   "metadata": {},
   "outputs": [],
   "source": [
    "def area(l,b):\n",
    "    return l*b\n",
    "\n",
    "def volume(l,b,h):\n",
    "    return l*b*h\n",
    "\n",
    "l = float(input(\"Enter length: \"))\n",
    "b = float(input(\"Enter breadth: \"))\n",
    "h = float(input(\"Enter height: \"))\n",
    "x = input(\"Enter 1 for area and 2 for volume: \")\n",
    "\n",
    "if x == '1':\n",
    "    print(area(l,b))\n",
    "elif x == '2':\n",
    "    print(volume(l,b,h))\n",
    "else:\n",
    "    print(\"The number given are incorrect please type a number given as des\")"
   ]
  }
 ],
 "metadata": {
  "kernelspec": {
   "display_name": "Python 3",
   "language": "python",
   "name": "python3"
  },
  "language_info": {
   "codemirror_mode": {
    "name": "ipython",
    "version": 3
   },
   "file_extension": ".py",
   "mimetype": "text/x-python",
   "name": "python",
   "nbconvert_exporter": "python",
   "pygments_lexer": "ipython3",
   "version": "3.8.5"
  }
 },
 "nbformat": 4,
 "nbformat_minor": 4
}
