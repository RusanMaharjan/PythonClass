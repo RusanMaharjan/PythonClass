{
 "cells": [
  {
   "cell_type": "code",
   "execution_count": 1,
   "metadata": {},
   "outputs": [],
   "source": [
    "#declare the functions in python"
   ]
  },
  {
   "cell_type": "code",
   "execution_count": 2,
   "metadata": {},
   "outputs": [],
   "source": [
    "def function():\n",
    "    print(\"This is my function\")"
   ]
  },
  {
   "cell_type": "code",
   "execution_count": 3,
   "metadata": {},
   "outputs": [
    {
     "name": "stdout",
     "output_type": "stream",
     "text": [
      "This is my function\n"
     ]
    }
   ],
   "source": [
    "function()"
   ]
  },
  {
   "cell_type": "code",
   "execution_count": 7,
   "metadata": {},
   "outputs": [
    {
     "name": "stdout",
     "output_type": "stream",
     "text": [
      "Enter principle: 10\n",
      "Enter time: 10\n",
      "Enter rate: 10\n",
      "The value of intrest =  10.0\n"
     ]
    }
   ],
   "source": [
    "def cal():\n",
    "    p = int(input(\"Enter principle: \"))\n",
    "    t = float(input(\"Enter time: \"))\n",
    "    r = int(input(\"Enter rate: \"))\n",
    "    i = p*t*r/100\n",
    "    print(\"The value of intrest = \",i)\n",
    "cal()"
   ]
  },
  {
   "cell_type": "code",
   "execution_count": null,
   "metadata": {},
   "outputs": [],
   "source": []
  },
  {
   "cell_type": "code",
   "execution_count": 8,
   "metadata": {},
   "outputs": [
    {
     "name": "stdout",
     "output_type": "stream",
     "text": [
      "Enter length: 5\n",
      "Enter breadth: 5\n",
      "The area of rectangle is:  25.0\n",
      "Enter height: 5\n",
      "The volume of rectangle is:  125.0\n"
     ]
    }
   ],
   "source": [
    "def area():\n",
    "    l = float(input(\"Enter length: \"))\n",
    "    b = float(input(\"Enter breadth: \"))\n",
    "    a = l*b\n",
    "    return a\n",
    "ar = area()\n",
    "print(\"The area of rectangle is: \",ar)\n",
    "h = float(input(\"Enter height: \"))\n",
    "v = ar*h\n",
    "print(\"The volume of rectangle is: \",v)"
   ]
  },
  {
   "cell_type": "code",
   "execution_count": null,
   "metadata": {},
   "outputs": [],
   "source": []
  }
 ],
 "metadata": {
  "kernelspec": {
   "display_name": "Python 3",
   "language": "python",
   "name": "python3"
  },
  "language_info": {
   "codemirror_mode": {
    "name": "ipython",
    "version": 3
   },
   "file_extension": ".py",
   "mimetype": "text/x-python",
   "name": "python",
   "nbconvert_exporter": "python",
   "pygments_lexer": "ipython3",
   "version": "3.8.5"
  }
 },
 "nbformat": 4,
 "nbformat_minor": 4
}
