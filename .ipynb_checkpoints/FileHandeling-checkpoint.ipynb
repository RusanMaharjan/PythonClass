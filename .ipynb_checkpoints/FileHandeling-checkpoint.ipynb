{
 "cells": [
  {
   "cell_type": "code",
   "execution_count": 1,
   "metadata": {},
   "outputs": [],
   "source": [
    "# File Handeling\n",
    "# Modes for file handeling\n",
    "#'r' = Read - Default value. Open a file for reading\n",
    "#'a' = Append - Opens a file for appending\n",
    "#'w' = Write - Opens a file for writing\n",
    "#'x' = Create - Create a file"
   ]
  },
  {
   "cell_type": "code",
   "execution_count": 3,
   "metadata": {},
   "outputs": [
    {
     "name": "stdout",
     "output_type": "stream",
     "text": [
      "The file is already there.\n"
     ]
    }
   ],
   "source": [
    "#b = open(<file_name>,<mode>)\n",
    "try:\n",
    "    b = open(\"class430pm.txt\",'x')\n",
    "    b.close()\n",
    "except:\n",
    "    print(\"The file is already there.\")"
   ]
  },
  {
   "cell_type": "code",
   "execution_count": 4,
   "metadata": {},
   "outputs": [
    {
     "name": "stdout",
     "output_type": "stream",
     "text": [
      "1) Hello Wrold\n",
      "2) Hello Wrold\n",
      "3) Hello Wrold\n",
      "4) Hello Wrold\n",
      "5) Hello Wrold\n",
      "6) Hello Wrold\n",
      "7) Hello Wrold\n",
      "8) Hello Wrold\n"
     ]
    }
   ],
   "source": [
    "b = open(\"class430pm.txt\",\"r\")\n",
    "print(b.read())\n",
    "b.close()"
   ]
  },
  {
   "cell_type": "code",
   "execution_count": 9,
   "metadata": {},
   "outputs": [
    {
     "name": "stdout",
     "output_type": "stream",
     "text": [
      "<class 'str'>\n",
      "['1) Hello Wrold', '2) Hello Wrold', '3) Hello Wrold', '4) Hello Wrold', '5) Hello Wrold', '6) Hello Wrold', '7) Hello Wrold', '8) Hello Wrold']\n"
     ]
    }
   ],
   "source": [
    "b = open(\"class430pm.txt\",\"r\")\n",
    "c = b.read()\n",
    "print(type(c))\n",
    "d = c.split('\\n')\n",
    "print(d)\n",
    "b.close()"
   ]
  },
  {
   "cell_type": "code",
   "execution_count": 13,
   "metadata": {},
   "outputs": [
    {
     "name": "stdout",
     "output_type": "stream",
     "text": [
      "Enter line number: 2\n",
      "2) Hello Wrold\n"
     ]
    }
   ],
   "source": [
    "line_no = int(input(\"Enter line number: \"))\n",
    "print(d[line_no-1])"
   ]
  },
  {
   "cell_type": "code",
   "execution_count": 15,
   "metadata": {},
   "outputs": [
    {
     "name": "stdout",
     "output_type": "stream",
     "text": [
      "1) Hello Wrold\n",
      "\n",
      "2) Hello Wrold\n",
      "\n"
     ]
    }
   ],
   "source": [
    "b = open(\"class430pm.txt\",\"r\")\n",
    "print(b.readline())\n",
    "print(b.readline())\n",
    "b.close()"
   ]
  },
  {
   "cell_type": "code",
   "execution_count": 21,
   "metadata": {},
   "outputs": [],
   "source": [
    "b = open(\"class430pm.txt\",\"a\")\n",
    "b.write(\"\\n9) Hello World\")\n",
    "b.close()"
   ]
  },
  {
   "cell_type": "code",
   "execution_count": 23,
   "metadata": {},
   "outputs": [
    {
     "name": "stdout",
     "output_type": "stream",
     "text": [
      "Enter n = 2\n",
      "Enter name: ram\n",
      "Enter phone: 9840539880\n",
      "Enter name: Shyam\n",
      "Enter phone: 9841379465\n"
     ]
    }
   ],
   "source": [
    "b = open(\"data.txt\",\"a\")\n",
    "s = \"\"\n",
    "n = int(input(\"Enter n = \"))\n",
    "for i in range(n):\n",
    "    name = input(\"Enter name: \")\n",
    "    phone = input(\"Enter phone: \")\n",
    "    info = f\"{name}--{phone}\\n\"\n",
    "    s = s+info\n",
    "b.write(s)\n",
    "b.close()"
   ]
  },
  {
   "cell_type": "code",
   "execution_count": 25,
   "metadata": {},
   "outputs": [
    {
     "name": "stdout",
     "output_type": "stream",
     "text": [
      "ram--9840539880\n",
      "Shyam--9841379465\n",
      "\n"
     ]
    }
   ],
   "source": [
    "b = open(\"data.txt\",\"r\")\n",
    "c = b.read()\n",
    "print(c)\n",
    "b.close()"
   ]
  },
  {
   "cell_type": "code",
   "execution_count": 27,
   "metadata": {},
   "outputs": [
    {
     "data": {
      "text/plain": [
       "['ram--9840539880', 'Shyam--9841379465']"
      ]
     },
     "execution_count": 27,
     "metadata": {},
     "output_type": "execute_result"
    }
   ],
   "source": [
    "d = c.split()\n",
    "d"
   ]
  },
  {
   "cell_type": "code",
   "execution_count": 28,
   "metadata": {},
   "outputs": [],
   "source": [
    "for i in d:\n",
    "    b = open(\"data.txt\",\"w\")\n",
    "    b.write(i)\n",
    "b.close()"
   ]
  },
  {
   "cell_type": "code",
   "execution_count": 31,
   "metadata": {},
   "outputs": [
    {
     "name": "stdout",
     "output_type": "stream",
     "text": [
      "['Ram Prasad--9840539880', 'Shyam--9841379465']\n"
     ]
    }
   ],
   "source": [
    "d = ['ram--9840539880', 'Shyam--9841379465']\n",
    "for i in range(len(d)):\n",
    "    if \"ram\" in d[i]:\n",
    "        d[i] = d[i].replace(\"ram\",\"Ram Prasad\")\n",
    "print(d)"
   ]
  },
  {
   "cell_type": "code",
   "execution_count": 34,
   "metadata": {},
   "outputs": [],
   "source": [
    "b = open(\"data.txt\",\"w\")\n",
    "for i in d:\n",
    "    b.write(f\"{i}\\n\")\n",
    "b.close()"
   ]
  },
  {
   "cell_type": "code",
   "execution_count": 36,
   "metadata": {},
   "outputs": [
    {
     "name": "stdout",
     "output_type": "stream",
     "text": [
      "Enter n = 2\n",
      "Enter name: Ram\n",
      "Enter phone: 646513\n",
      "Enter name: Shyam\n",
      "Enter phone: \n"
     ]
    }
   ],
   "source": [
    "b = open(\"data.csv\",\"w\")\n",
    "b.write(\"Name,Phone\\n\")\n",
    "s = \"\"\n",
    "n = int(input(\"Enter n = \"))\n",
    "for i in range(n):\n",
    "    name = input(\"Enter name: \")\n",
    "    phone = input(\"Enter phone: \")\n",
    "    info = f\"{name},{phone}\\n\"\n",
    "    s = s+info\n",
    "b.write(s)\n",
    "b.close()"
   ]
  },
  {
   "cell_type": "code",
   "execution_count": 37,
   "metadata": {},
   "outputs": [],
   "source": [
    "#deleting files\n",
    "import os\n",
    "os.remove(\"data.csv\")"
   ]
  },
  {
   "cell_type": "code",
   "execution_count": 42,
   "metadata": {},
   "outputs": [
    {
     "name": "stdout",
     "output_type": "stream",
     "text": [
      "There is no such files.\n"
     ]
    }
   ],
   "source": [
    "#removing files\n",
    "import os\n",
    "if os.path.exists(\"data.csv\"):\n",
    "    os.remove(\"data.csv\")\n",
    "    print(\"File removed.\")\n",
    "else:\n",
    "    print(\"There is no such files.\")"
   ]
  },
  {
   "cell_type": "code",
   "execution_count": 43,
   "metadata": {},
   "outputs": [
    {
     "data": {
      "text/plain": [
       "'Untitled Folder\\\\data.txt'"
      ]
     },
     "execution_count": 43,
     "metadata": {},
     "output_type": "execute_result"
    }
   ],
   "source": [
    "import shutil as s\n",
    "src = \"data.txt\"\n",
    "dest = \"Untitled Folder\"\n",
    "s.copy(src,dest)"
   ]
  },
  {
   "cell_type": "code",
   "execution_count": 48,
   "metadata": {},
   "outputs": [
    {
     "data": {
      "text/plain": [
       "'Untitled Folder2'"
      ]
     },
     "execution_count": 48,
     "metadata": {},
     "output_type": "execute_result"
    }
   ],
   "source": [
    "#copying folder folder from one folder to another folder\n",
    "import shutil as s\n",
    "src = \"Untitled Folder\"\n",
    "dest = \"Untitled Folder2\"\n",
    "s.copytree(src,dest)"
   ]
  },
  {
   "cell_type": "code",
   "execution_count": 49,
   "metadata": {},
   "outputs": [
    {
     "data": {
      "text/plain": [
       "'Untitled Folder1\\\\Untitled Folder'"
      ]
     },
     "execution_count": 49,
     "metadata": {},
     "output_type": "execute_result"
    }
   ],
   "source": [
    "#Moving folder to one folder to another folder\n",
    "import shutil as s\n",
    "s.move('Untitled Folder','Untitled Folder1')"
   ]
  },
  {
   "cell_type": "code",
   "execution_count": 50,
   "metadata": {},
   "outputs": [],
   "source": [
    "#renaming folder\n",
    "import os\n",
    "os.rename(\"Untitled Folder1\",\"New Folder\")"
   ]
  },
  {
   "cell_type": "code",
   "execution_count": null,
   "metadata": {},
   "outputs": [],
   "source": []
  }
 ],
 "metadata": {
  "kernelspec": {
   "display_name": "Python 3",
   "language": "python",
   "name": "python3"
  },
  "language_info": {
   "codemirror_mode": {
    "name": "ipython",
    "version": 3
   },
   "file_extension": ".py",
   "mimetype": "text/x-python",
   "name": "python",
   "nbconvert_exporter": "python",
   "pygments_lexer": "ipython3",
   "version": "3.8.5"
  }
 },
 "nbformat": 4,
 "nbformat_minor": 4
}
