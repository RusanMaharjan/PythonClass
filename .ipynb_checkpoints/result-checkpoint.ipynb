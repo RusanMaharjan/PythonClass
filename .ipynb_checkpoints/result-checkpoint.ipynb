{
 "cells": [
  {
   "cell_type": "code",
   "execution_count": 13,
   "metadata": {},
   "outputs": [
    {
     "name": "stdout",
     "output_type": "stream",
     "text": [
      "Enter marks of a student: 39\n",
      "You have failed the examination..\n"
     ]
    }
   ],
   "source": [
    "def marks():\n",
    "    mark =  float(input(\"Enter marks of a student: \"))\n",
    "    \n",
    "    if(mark > 100):\n",
    "        print(\"Marks will no be more than 100. So put correct value\")\n",
    "    elif(mark >= 90):\n",
    "        print(\"You have got A+\")\n",
    "    elif(mark >= 80):\n",
    "        print(\"You have got A\")\n",
    "    elif(mark >= 70):\n",
    "        print(\"You have got B+\")\n",
    "    elif(mark >= 60):\n",
    "        print(\"You have got B\")\n",
    "    elif(mark >= 50):\n",
    "        print(\"You have got C+\")\n",
    "    elif(mark >= 40):\n",
    "        print(\"You have got C\")\n",
    "    else:\n",
    "        print(\"You have failed the examination..\")\n",
    "marks()"
   ]
  },
  {
   "cell_type": "code",
   "execution_count": null,
   "metadata": {},
   "outputs": [],
   "source": []
  }
 ],
 "metadata": {
  "kernelspec": {
   "display_name": "Python 3",
   "language": "python",
   "name": "python3"
  },
  "language_info": {
   "codemirror_mode": {
    "name": "ipython",
    "version": 3
   },
   "file_extension": ".py",
   "mimetype": "text/x-python",
   "name": "python",
   "nbconvert_exporter": "python",
   "pygments_lexer": "ipython3",
   "version": "3.8.5"
  }
 },
 "nbformat": 4,
 "nbformat_minor": 4
}
