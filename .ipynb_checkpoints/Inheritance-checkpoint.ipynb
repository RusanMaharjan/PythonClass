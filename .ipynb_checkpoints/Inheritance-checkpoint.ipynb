{
 "cells": [
  {
   "cell_type": "code",
   "execution_count": 4,
   "metadata": {},
   "outputs": [
    {
     "name": "stdout",
     "output_type": "stream",
     "text": [
      "Hello I am Ram. I am from Kathmandu\n",
      "Hello I am Shyam. I am from Lalitpur\n"
     ]
    }
   ],
   "source": [
    "class Info:\n",
    "    def __init__(self, name, address):\n",
    "        self.name = name\n",
    "        self.address = address\n",
    "\n",
    "class Hr(Info):\n",
    "    def hr(self):\n",
    "        print(f\"Hello I am {self.name}. I am from {self.address}\")\n",
    "\n",
    "obj = Hr(\"Ram\", \"Kathmandu\")\n",
    "obj.hr()\n",
    "obj = Hr(\"Shyam\", \"Lalitpur\")\n",
    "obj.hr()"
   ]
  },
  {
   "cell_type": "code",
   "execution_count": 9,
   "metadata": {},
   "outputs": [
    {
     "name": "stdout",
     "output_type": "stream",
     "text": [
      "This is class A.\n",
      "This is class B.\n",
      "This is class C.\n"
     ]
    }
   ],
   "source": [
    "class A:\n",
    "    print(\"This is class A.\")\n",
    "class B(A):\n",
    "    print(\"This is class B.\")\n",
    "class C(B):\n",
    "    print(\"This is class C.\")\n",
    "    \n",
    "obj = C()"
   ]
  },
  {
   "cell_type": "code",
   "execution_count": 14,
   "metadata": {},
   "outputs": [
    {
     "name": "stdout",
     "output_type": "stream",
     "text": [
      "This is class A.\n",
      "This is class B.\n",
      "This is class A.\n",
      "This is class C.\n",
      "This is class B.\n",
      "This is class A.\n"
     ]
    }
   ],
   "source": [
    "class A:\n",
    "    def a(self):\n",
    "        print(\"This is class A.\")\n",
    "class B(A):\n",
    "    def b(self):\n",
    "        print(\"This is class B.\")\n",
    "        super().a()\n",
    "class C(B):\n",
    "    def c(self):\n",
    "        print(\"This is class C.\")\n",
    "        super().b()\n",
    "    \n",
    "obj = C()\n",
    "obj.a()\n",
    "obj.b()\n",
    "obj.c()"
   ]
  },
  {
   "cell_type": "code",
   "execution_count": 18,
   "metadata": {},
   "outputs": [
    {
     "name": "stdout",
     "output_type": "stream",
     "text": [
      "Hello I am Ram. I am from Kathmandu\n"
     ]
    }
   ],
   "source": [
    "class Info:\n",
    "    def __init__(self, address):\n",
    "        self.address = address\n",
    "    \n",
    "        \n",
    "class Office(Info):\n",
    "    def __init__(self, name):        \n",
    "        self.name = name\n",
    "        \n",
    "class Hr(Office):\n",
    "    def __init__(self, name, address):\n",
    "        Info.__init__(self, address)\n",
    "        Office.__init__(self, name)\n",
    "    def hr(self):\n",
    "        print(f\"Hello I am {self.name}. I am from {self.address}\")\n",
    "        \n",
    "obj = Hr(\"Ram\", \"Kathmandu\")\n",
    "obj.hr()"
   ]
  },
  {
   "cell_type": "code",
   "execution_count": 25,
   "metadata": {},
   "outputs": [
    {
     "name": "stdout",
     "output_type": "stream",
     "text": [
      "Hello I am Ram. I am from Kathmandu. Phone Number is 9840539880\n"
     ]
    }
   ],
   "source": [
    "class Info:\n",
    "    def __init__(self, address):\n",
    "        self.address = address\n",
    "    \n",
    "        \n",
    "class Office(Info):\n",
    "    def __init__(self, name):        \n",
    "        self.name = name\n",
    "        \n",
    "class Hr(Office, Info):\n",
    "    def __init__(self, name, address, phone):\n",
    "        Info.__init__(self, address)\n",
    "        Office.__init__(self, name)\n",
    "        self.phone = phone\n",
    "        \n",
    "    def hr(self):\n",
    "        print(f\"Hello I am {self.name}. I am from {self.address}. Phone Number is {self.phone}\")\n",
    "        \n",
    "obj = Hr(\"Ram\", \"Kathmandu\", 9840539880)\n",
    "obj.hr()"
   ]
  },
  {
   "cell_type": "code",
   "execution_count": 26,
   "metadata": {},
   "outputs": [
    {
     "name": "stdout",
     "output_type": "stream",
     "text": [
      "Hello I am Ram. I am from Kathmandu.. My number is 9840539880\n"
     ]
    }
   ],
   "source": [
    "class Info:\n",
    "    def __init__(self, address):\n",
    "        self.address = address\n",
    "    \n",
    "    def address(self):\n",
    "        return f\"I am from {self.address}.\"\n",
    "class Office(Info):\n",
    "    def __init__(self, name):        \n",
    "        self.name = name\n",
    "        \n",
    "    def name(self):\n",
    "        return f\"Hello I am {self.name}.\"\n",
    "        \n",
    "class Hr(Office, Info):\n",
    "    def __init__(self, name, address, phone):\n",
    "        Info.__init__(self, address)\n",
    "        Office.__init__(self, name)\n",
    "        self.phone = phone\n",
    "        \n",
    "    def hr(self):\n",
    "        print(f\"{super().name()} {super().address()}. My number is {self.phone}\")\n",
    "        \n",
    "obj = Hr(\"Ram\", \"Kathmandu\", 9840539880)\n",
    "obj.hr()"
   ]
  },
  {
   "cell_type": "code",
   "execution_count": 36,
   "metadata": {},
   "outputs": [
    {
     "ename": "NameError",
     "evalue": "name 'staff_id' is not defined",
     "output_type": "error",
     "traceback": [
      "\u001b[1;31m---------------------------------------------------------------------------\u001b[0m",
      "\u001b[1;31mNameError\u001b[0m                                 Traceback (most recent call last)",
      "\u001b[1;32m<ipython-input-36-cadabeaac3f6>\u001b[0m in \u001b[0;36m<module>\u001b[1;34m\u001b[0m\n\u001b[0;32m     31\u001b[0m \u001b[1;33m\u001b[0m\u001b[0m\n\u001b[0;32m     32\u001b[0m \u001b[0mobj\u001b[0m \u001b[1;33m=\u001b[0m \u001b[0mDepartment\u001b[0m\u001b[1;33m(\u001b[0m\u001b[1;34m\"01\"\u001b[0m\u001b[1;33m,\u001b[0m \u001b[1;34m\"Ram\"\u001b[0m\u001b[1;33m,\u001b[0m \u001b[1;34m\"Kathmandu\"\u001b[0m\u001b[1;33m,\u001b[0m \u001b[1;34m\"Web Developer\"\u001b[0m\u001b[1;33m,\u001b[0m \u001b[1;34m\"80000\"\u001b[0m\u001b[1;33m,\u001b[0m \u001b[1;34m\"8:30 Am to 8:00 Pm\"\u001b[0m\u001b[1;33m,\u001b[0m \u001b[1;34m\"7:00 Am to 11:00 Am\"\u001b[0m\u001b[1;33m)\u001b[0m\u001b[1;33m\u001b[0m\u001b[1;33m\u001b[0m\u001b[0m\n\u001b[1;32m---> 33\u001b[1;33m \u001b[0mobj\u001b[0m\u001b[1;33m.\u001b[0m\u001b[0mdep\u001b[0m\u001b[1;33m(\u001b[0m\u001b[1;33m)\u001b[0m\u001b[1;33m\u001b[0m\u001b[1;33m\u001b[0m\u001b[0m\n\u001b[0m",
      "\u001b[1;32m<ipython-input-36-cadabeaac3f6>\u001b[0m in \u001b[0;36mdep\u001b[1;34m(self)\u001b[0m\n\u001b[0;32m     22\u001b[0m         \u001b[0mPartTimeStaff\u001b[0m\u001b[1;33m.\u001b[0m\u001b[0m__init__\u001b[0m\u001b[1;33m(\u001b[0m\u001b[0mself\u001b[0m\u001b[1;33m,\u001b[0m \u001b[0mpart_time\u001b[0m\u001b[1;33m)\u001b[0m\u001b[1;33m\u001b[0m\u001b[1;33m\u001b[0m\u001b[0m\n\u001b[0;32m     23\u001b[0m     \u001b[1;32mdef\u001b[0m \u001b[0mdep\u001b[0m\u001b[1;33m(\u001b[0m\u001b[0mself\u001b[0m\u001b[1;33m)\u001b[0m\u001b[1;33m:\u001b[0m\u001b[1;33m\u001b[0m\u001b[1;33m\u001b[0m\u001b[0m\n\u001b[1;32m---> 24\u001b[1;33m         \u001b[0mprint\u001b[0m\u001b[1;33m(\u001b[0m\u001b[1;34mf\"ID of staff: \"\u001b[0m\u001b[1;33m,\u001b[0m\u001b[0mstaff_id\u001b[0m\u001b[1;33m)\u001b[0m\u001b[1;33m\u001b[0m\u001b[1;33m\u001b[0m\u001b[0m\n\u001b[0m\u001b[0;32m     25\u001b[0m         \u001b[0mprint\u001b[0m\u001b[1;33m(\u001b[0m\u001b[1;34mf\"Name of staff: \"\u001b[0m\u001b[1;33m,\u001b[0m\u001b[0mname\u001b[0m\u001b[1;33m)\u001b[0m\u001b[1;33m\u001b[0m\u001b[1;33m\u001b[0m\u001b[0m\n\u001b[0;32m     26\u001b[0m         \u001b[0mprint\u001b[0m\u001b[1;33m(\u001b[0m\u001b[1;34mf\"Address of staff: \"\u001b[0m\u001b[1;33m,\u001b[0m\u001b[0maddress\u001b[0m\u001b[1;33m)\u001b[0m\u001b[1;33m\u001b[0m\u001b[1;33m\u001b[0m\u001b[0m\n",
      "\u001b[1;31mNameError\u001b[0m: name 'staff_id' is not defined"
     ]
    }
   ],
   "source": [
    "class Staff:\n",
    "    def __init__(self, staff_id, name, address, job_title, salary):\n",
    "        self.staff_id = staff_id\n",
    "        self.name = name\n",
    "        self.address = address\n",
    "        self.job_title = job_title\n",
    "        self.salary = salary\n",
    "        \n",
    "        \n",
    "class FullTimeStaff(Staff):\n",
    "    def  __init__(self, full_time):\n",
    "        self.full_time = full_time\n",
    "\n",
    "class PartTimeStaff(Staff):\n",
    "    def __init__(self, part_time):\n",
    "        self.part_time = part_time\n",
    "        \n",
    "class Department(PartTimeStaff):\n",
    "    def __init__(self, staff_id, name, address, job_title, salary, full_time, part_time):\n",
    "        Staff.__init__(self, staff_id, name, address, job_title, salary)\n",
    "        FullTimeStaff.__init__(self, full_time)\n",
    "        PartTimeStaff.__init__(self, part_time)\n",
    "    def dep(self):\n",
    "        print(f\"ID of staff: \",staff_id)\n",
    "        print(f\"Name of staff: \",name)\n",
    "        print(f\"Address of staff: \",address)\n",
    "        print(f\"Job Title of staff: \",job_title)\n",
    "        print(f\"Salary of staff: \",salary)\n",
    "        print(f\"Full Time of staff {self.full_time}\")\n",
    "        print(f\"Part Time of staff {self.part_time}\")\n",
    "        \n",
    "obj = Department(\"01\", \"Ram\", \"Kathmandu\", \"Web Developer\", \"80000\", \"8:30 Am to 8:00 Pm\", \"7:00 Am to 11:00 Am\")\n",
    "obj.dep()"
   ]
  },
  {
   "cell_type": "code",
   "execution_count": 46,
   "metadata": {},
   "outputs": [
    {
     "name": "stdout",
     "output_type": "stream",
     "text": [
      "Ram\n",
      "2\n"
     ]
    }
   ],
   "source": [
    "class Person:\n",
    "    #defining constructor\n",
    "    def __init__(self, personName, personAge):\n",
    "        self.personName = personName\n",
    "        self.personAge = personAge\n",
    "    #defining class methods\n",
    "    def showName(self):\n",
    "        print(self.personName)\n",
    "    def showAge(self):\n",
    "        print(self.personAge)\n",
    "class Student:\n",
    "    def __init__(self, studentId):\n",
    "        self.studentId = studentId\n",
    "    def getId(self):\n",
    "        return self.studentId\n",
    "class Resident(Person, Student):\n",
    "    def __init__(self, personName, personAge, studentId):\n",
    "        Person. __init__(self, personName, personAge)\n",
    "        Student.__init__(self, studentId)\n",
    "#creating an object of the subclass\n",
    "resident1 = Resident(\"Ram\", 25, '2')\n",
    "resident1.showName()\n",
    "print(resident1.getId())"
   ]
  },
  {
   "cell_type": "code",
   "execution_count": 3,
   "metadata": {},
   "outputs": [
    {
     "name": "stdout",
     "output_type": "stream",
     "text": [
      "Hello I am Ram. I am from Kathmandu. My phone is 9840539880\n"
     ]
    }
   ],
   "source": [
    "class Info:\n",
    "    def __init__(self, name, address, phone):\n",
    "        self._name = name\n",
    "        self.address = address\n",
    "        self.__phone = phone\n",
    "        \n",
    "class Hr(Info):\n",
    "    def hr(self):\n",
    "        print(f\"Hello I am {self._name}. I am from {self.address}. My phone is {self._Info__phone}\")\n",
    "\n",
    "obj = Hr(\"Ram\", \"Kathmandu\", 9840539880)\n",
    "obj.hr()"
   ]
  },
  {
   "cell_type": "code",
   "execution_count": 11,
   "metadata": {},
   "outputs": [
    {
     "name": "stdout",
     "output_type": "stream",
     "text": [
      "Hello I am Ram. I am from Kathmandu. Phone Number is 9840539880\n",
      "Kathmandu\n"
     ]
    }
   ],
   "source": [
    "class Info:\n",
    "    def __init__(self, address):\n",
    "        self.__address = address\n",
    "    \n",
    "    def info(self):        \n",
    "        print(self.__address)\n",
    "        \n",
    "class Office(Info):\n",
    "    def __init__(self, name):        \n",
    "        self.name = name\n",
    "        \n",
    "class Hr(Office, Info):\n",
    "    def __init__(self, name, address, phone):\n",
    "        Info.__init__(self, address)\n",
    "        Office.__init__(self, name)\n",
    "        self.phone = phone\n",
    "        \n",
    "    def hr(self):\n",
    "        print(f\"Hello I am {self.name}. I am from {self._Info__address}. Phone Number is {self.phone}\")\n",
    "        \n",
    "obj = Hr(\"Ram\", \"Kathmandu\", 9840539880)\n",
    "obj.hr()\n",
    "obj.info()"
   ]
  },
  {
   "cell_type": "code",
   "execution_count": 17,
   "metadata": {},
   "outputs": [
    {
     "name": "stdout",
     "output_type": "stream",
     "text": [
      "Hello I am Ram. I am from Kathmandu. Phone Number is 9840539880\n"
     ]
    },
    {
     "data": {
      "text/plain": [
       "'Kathmandu'"
      ]
     },
     "execution_count": 17,
     "metadata": {},
     "output_type": "execute_result"
    }
   ],
   "source": [
    "class Info:\n",
    "    def __init__(self, address):\n",
    "        self.__address = address\n",
    "    \n",
    "    def info(self):        \n",
    "        return self.__address\n",
    "        \n",
    "class Office(Info):\n",
    "    def __init__(self, name, address):  \n",
    "        Info.__init__(self, address)\n",
    "        self.name = name\n",
    "        \n",
    "class Hr(Office, Info):\n",
    "    def __init__(self, name, address, phone):\n",
    "        Info.__init__(self, address)\n",
    "        Office.__init__(self, name, address)\n",
    "        self.phone = phone\n",
    "        \n",
    "    def hr(self):\n",
    "        print(f\"Hello I am {self.name}. I am from {super().info()}. Phone Number is {self.phone}\")\n",
    "        \n",
    "obj = Hr(\"Ram\", \"Kathmandu\", 9840539880)\n",
    "obj.hr()\n",
    "\n",
    "obj1 = Office(\"Hari\", \"Kathmandu\")\n",
    "obj1.info()"
   ]
  },
  {
   "cell_type": "code",
   "execution_count": null,
   "metadata": {},
   "outputs": [],
   "source": []
  }
 ],
 "metadata": {
  "kernelspec": {
   "display_name": "Python 3",
   "language": "python",
   "name": "python3"
  },
  "language_info": {
   "codemirror_mode": {
    "name": "ipython",
    "version": 3
   },
   "file_extension": ".py",
   "mimetype": "text/x-python",
   "name": "python",
   "nbconvert_exporter": "python",
   "pygments_lexer": "ipython3",
   "version": "3.8.5"
  }
 },
 "nbformat": 4,
 "nbformat_minor": 4
}
