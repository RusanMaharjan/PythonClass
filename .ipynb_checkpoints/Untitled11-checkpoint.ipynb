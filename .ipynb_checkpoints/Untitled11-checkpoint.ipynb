{
 "cells": [
  {
   "cell_type": "code",
   "execution_count": 6,
   "metadata": {},
   "outputs": [
    {
     "name": "stdout",
     "output_type": "stream",
     "text": [
      "Enter age: ABC\n",
      "Please enter age in number.\n"
     ]
    }
   ],
   "source": [
    "#exception handeling\n",
    "#try, except, else and finally\n",
    "try:\n",
    "    a = int(input(\"Enter age: \"))\n",
    "    print(\"Your age is: \",a)\n",
    "except:\n",
    "    print(\"Please enter age in number.\")"
   ]
  },
  {
   "cell_type": "code",
   "execution_count": 8,
   "metadata": {},
   "outputs": [
    {
     "name": "stdout",
     "output_type": "stream",
     "text": [
      "Enter a: 10\n",
      "Enter b: 0\n",
      "Error\n"
     ]
    }
   ],
   "source": [
    "try:\n",
    "    a = int(input(\"Enter a: \"))\n",
    "    b = int(input(\"Enter b: \"))\n",
    "    c = a/b\n",
    "    print(c)\n",
    "except:\n",
    "    print(\"Error\")"
   ]
  },
  {
   "cell_type": "code",
   "execution_count": 10,
   "metadata": {},
   "outputs": [
    {
     "name": "stdout",
     "output_type": "stream",
     "text": [
      "Enter a: 10\n",
      "Enter b: 0\n",
      "The value of b can not be zero.\n"
     ]
    }
   ],
   "source": [
    "try:\n",
    "    a = int(input(\"Enter a: \"))\n",
    "    b = int(input(\"Enter b: \"))\n",
    "    c = a/b\n",
    "    print(c)\n",
    "except ZeroDivisionError:\n",
    "    print(\"The value of b can not be zero.\")\n",
    "except ValueError:\n",
    "    print(\"The a and b must be int\")"
   ]
  },
  {
   "cell_type": "code",
   "execution_count": 14,
   "metadata": {},
   "outputs": [
    {
     "name": "stdout",
     "output_type": "stream",
     "text": [
      "Enter a: 100\n",
      "Enter b: 900000\n",
      "0.00011111111111111112\n"
     ]
    }
   ],
   "source": [
    "#try and expect with recursive function\n",
    "def cal():\n",
    "    try:\n",
    "        a = int(input(\"Enter a: \"))\n",
    "        b = int(input(\"Enter b: \"))\n",
    "        c = a/b\n",
    "        print(c)\n",
    "    except ZeroDivisionError:\n",
    "        print(\"The value of b can not be zero.\")\n",
    "        cal()\n",
    "    except ValueError:\n",
    "        print(\"The a and b must be int\")\n",
    "        cal()\n",
    "cal()"
   ]
  },
  {
   "cell_type": "code",
   "execution_count": 18,
   "metadata": {},
   "outputs": [
    {
     "name": "stdout",
     "output_type": "stream",
     "text": [
      "Enter a: 10\n",
      "Enter b: 0\n",
      "The value of b can not be zero.\n"
     ]
    }
   ],
   "source": [
    "try:\n",
    "    a = int(input(\"Enter a: \"))\n",
    "    b = int(input(\"Enter b: \"))\n",
    "    c = a/b\n",
    "except ZeroDivisionError:\n",
    "    print(\"The value of b can not be zero.\")\n",
    "except ValueError:\n",
    "    print(\"The a and b must be int\")\n",
    "else:\n",
    "    print(\"Value of c is: \",c)"
   ]
  },
  {
   "cell_type": "code",
   "execution_count": null,
   "metadata": {},
   "outputs": [],
   "source": []
  }
 ],
 "metadata": {
  "kernelspec": {
   "display_name": "Python 3",
   "language": "python",
   "name": "python3"
  },
  "language_info": {
   "codemirror_mode": {
    "name": "ipython",
    "version": 3
   },
   "file_extension": ".py",
   "mimetype": "text/x-python",
   "name": "python",
   "nbconvert_exporter": "python",
   "pygments_lexer": "ipython3",
   "version": "3.8.5"
  }
 },
 "nbformat": 4,
 "nbformat_minor": 4
}
