{
 "cells": [
  {
   "cell_type": "code",
   "execution_count": 8,
   "metadata": {},
   "outputs": [
    {
     "name": "stdout",
     "output_type": "stream",
     "text": [
      "Choose a number: 2\n",
      "Enter a number: 4\n",
      "Enter another number: 5\n",
      "Enter a number: 67\n",
      "Enter another number: 8\n",
      "[[4, 5], [67, 8]]\n"
     ]
    }
   ],
   "source": [
    "data = []\n",
    "n = int(input(\"Choose a number: \"))\n",
    "for i in range(n):\n",
    "    a = int(input(\"Enter a number: \"))\n",
    "    b = int(input(\"Enter another number: \"))\n",
    "    c = [a, b]\n",
    "    data.append(c)\n",
    "print(data)"
   ]
  },
  {
   "cell_type": "code",
   "execution_count": null,
   "metadata": {},
   "outputs": [],
   "source": []
  },
  {
   "cell_type": "code",
   "execution_count": null,
   "metadata": {},
   "outputs": [],
   "source": []
  },
  {
   "cell_type": "code",
   "execution_count": null,
   "metadata": {},
   "outputs": [],
   "source": []
  },
  {
   "cell_type": "code",
   "execution_count": null,
   "metadata": {},
   "outputs": [],
   "source": []
  },
  {
   "cell_type": "code",
   "execution_count": null,
   "metadata": {
    "scrolled": true
   },
   "outputs": [],
   "source": [
    "students = {}\n",
    "n = int(input(\"How many students are there? \"))\n",
    "for i in range(n):\n",
    "    name = input(\"Enter name of student: \")\n",
    "    physics = int(input(\"Enter marks of physics: \"))\n",
    "    chemestry = int(input(\"Enter marks of chemestry: \"))\n",
    "    math = int(input(\"Enter marks of math: \"))\n",
    "    account = int(input(\"Enter marks of account: \"))\n",
    "    computer = int(input(\"Enter marks of computer: \"))\n",
    "    students[name] = {\"Physics\":physics, \"Chemestry\":chemestry, \"Math\":math, \"Computer\":computer}\n",
    "    total_marks = physics + chemestry + math + account + computer\n",
    "    print(\"The total marks gained by\",name, \"is \", total_marks)\n",
    "    percentage = total_marks/5\n",
    "    print(\"The percentage gained by\",name, \"is \", percentage)\n",
    "print(\"Information of result is: \\n\",students)"
   ]
  },
  {
   "cell_type": "code",
   "execution_count": null,
   "metadata": {},
   "outputs": [],
   "source": [
    "90"
   ]
  },
  {
   "cell_type": "code",
   "execution_count": null,
   "metadata": {},
   "outputs": [],
   "source": []
  }
 ],
 "metadata": {
  "kernelspec": {
   "display_name": "Python 3",
   "language": "python",
   "name": "python3"
  },
  "language_info": {
   "codemirror_mode": {
    "name": "ipython",
    "version": 3
   },
   "file_extension": ".py",
   "mimetype": "text/x-python",
   "name": "python",
   "nbconvert_exporter": "python",
   "pygments_lexer": "ipython3",
   "version": "3.8.5"
  }
 },
 "nbformat": 4,
 "nbformat_minor": 4
}
