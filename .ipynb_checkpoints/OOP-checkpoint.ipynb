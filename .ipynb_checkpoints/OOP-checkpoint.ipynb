{
 "cells": [
  {
   "cell_type": "code",
   "execution_count": 1,
   "metadata": {},
   "outputs": [
    {
     "name": "stdout",
     "output_type": "stream",
     "text": [
      "Hello World\n"
     ]
    }
   ],
   "source": [
    "class Hello: #initialize class\n",
    "    print(\"Hello World\")\n",
    "    \n",
    "obj = Hello()#initialize object"
   ]
  },
  {
   "cell_type": "code",
   "execution_count": 7,
   "metadata": {},
   "outputs": [
    {
     "name": "stdout",
     "output_type": "stream",
     "text": [
      "Hello World\n"
     ]
    }
   ],
   "source": [
    "# self parameter used to access variable\n",
    "class Hello:\n",
    "    def hello(self):\n",
    "        print(\"Hello World\")\n",
    "obj = Hello()\n",
    "obj.hello()"
   ]
  },
  {
   "cell_type": "code",
   "execution_count": 8,
   "metadata": {},
   "outputs": [
    {
     "name": "stdout",
     "output_type": "stream",
     "text": [
      "150\n"
     ]
    }
   ],
   "source": [
    "class Cal:\n",
    "    def area(self, l, b):\n",
    "        a = l*b\n",
    "        print(a)\n",
    "obj = Cal()\n",
    "obj.area(10, 15)"
   ]
  },
  {
   "cell_type": "code",
   "execution_count": 9,
   "metadata": {},
   "outputs": [
    {
     "name": "stdout",
     "output_type": "stream",
     "text": [
      "150\n",
      "600\n"
     ]
    }
   ],
   "source": [
    "class Cal:\n",
    "    def area(self, l, b):\n",
    "        a = l*b\n",
    "        print(a)\n",
    "    def volume(self, l, b, h):\n",
    "        b = l * b * h\n",
    "        print(b)\n",
    "obj = Cal()\n",
    "obj.area(10, 15)\n",
    "obj.volume(10, 15, 4)"
   ]
  },
  {
   "cell_type": "code",
   "execution_count": 12,
   "metadata": {},
   "outputs": [
    {
     "name": "stdout",
     "output_type": "stream",
     "text": [
      "150\n",
      "600\n"
     ]
    }
   ],
   "source": [
    "class Area:\n",
    "    def area(self, l, b):\n",
    "        a = l*b\n",
    "        print(a)\n",
    "class Volume:\n",
    "    def volume(self, l, b, h):\n",
    "        b = l * b * h\n",
    "        print(b)\n",
    "obj = Cal()\n",
    "obj1 = Volume()\n",
    "obj.area(10, 15)\n",
    "obj1.volume(10, 15, 4)"
   ]
  },
  {
   "cell_type": "code",
   "execution_count": null,
   "metadata": {},
   "outputs": [],
   "source": [
    "#__str__ and __repr__ pass object value"
   ]
  },
  {
   "cell_type": "code",
   "execution_count": 9,
   "metadata": {},
   "outputs": [
    {
     "name": "stdout",
     "output_type": "stream",
     "text": [
      "<class '__main__.Info'>\n",
      "Ram 34\n",
      "Ram 34\n",
      "Ram 34\n"
     ]
    }
   ],
   "source": [
    "class Info:\n",
    "    def __init__(self,name,age,address):\n",
    "        self.name = name\n",
    "        self.age = age\n",
    "        self.address = address\n",
    "    def __str__(self):\n",
    "        return f\"{self.name} {self.age}\"\n",
    "obj = Info(\"Ram\", 34, \"Kathmandu\")\n",
    "print(type(obj))\n",
    "print(obj)\n",
    "print(obj.__str__())\n",
    "print(str(obj))"
   ]
  },
  {
   "cell_type": "code",
   "execution_count": 16,
   "metadata": {},
   "outputs": [
    {
     "name": "stdout",
     "output_type": "stream",
     "text": [
      "Enter the value of length: 10\n",
      "Enter the value of breadth: 10\n",
      "Enter the value of height: 10\n",
      "The area is:  100\n",
      "The volume is:  1000\n"
     ]
    }
   ],
   "source": [
    "class Cal:\n",
    "    def __init__(self, x, y, z):\n",
    "        self.l = x\n",
    "        self.b = y\n",
    "        self.h = z\n",
    "    def area(self):\n",
    "        a = self.l*self.b\n",
    "        print(\"The area is: \",a)\n",
    "    def volume(self):\n",
    "        v = self.l*self.b*self.h\n",
    "        print(\"The volume is: \",v)\n",
    "l = int(input(\"Enter the value of length: \"))\n",
    "b = int(input(\"Enter the value of breadth: \"))\n",
    "h = int(input(\"Enter the value of height: \"))\n",
    "obj = Cal(l, b, h)\n",
    "obj.area()\n",
    "obj.volume()"
   ]
  },
  {
   "cell_type": "code",
   "execution_count": 10,
   "metadata": {},
   "outputs": [
    {
     "name": "stdout",
     "output_type": "stream",
     "text": [
      "<class '__main__.Info'>\n",
      "{'Name': 'Ram', 'Age': 34}\n"
     ]
    }
   ],
   "source": [
    "class Info:\n",
    "    def __init__(self,name,age,address):\n",
    "        self.name = name\n",
    "        self.age = age\n",
    "        self.address = address\n",
    "    def __repr__(self):\n",
    "        return {\"Name\": self.name, \"Age\": self.age}\n",
    "obj = Info(\"Ram\", 34, \"Kathmandu\")\n",
    "print(type(obj))\n",
    "print(obj.__repr__())"
   ]
  },
  {
   "cell_type": "code",
   "execution_count": null,
   "metadata": {},
   "outputs": [],
   "source": [
    "class Cal:\n",
    "    def __init__(self, l, b, h):\n",
    "        self.l = x\n",
    "        self.b = y\n",
    "        self.h = z\n",
    "    def area(self):\n",
    "        a = self.l*self.b\n",
    "        print(\"The area is: \",a)\n",
    "    def volume(self):\n",
    "        v = self.l*self.b*self.h\n",
    "        print(\"The volume is: \",v)\n",
    "l = int(input(\"Enter the value of length: \"))\n",
    "b = int(input(\"Enter the value of breadth: \"))\n",
    "h = int(input(\"Enter the value of height: \"))\n",
    "obj = Cal(l, b, h)\n",
    "obj.area()\n",
    "obj.volume()"
   ]
  },
  {
   "cell_type": "code",
   "execution_count": 7,
   "metadata": {},
   "outputs": [
    {
     "name": "stdout",
     "output_type": "stream",
     "text": [
      "Hello I am Ram. I am from Kathmandu\n"
     ]
    }
   ],
   "source": []
  },
  {
   "cell_type": "code",
   "execution_count": null,
   "metadata": {},
   "outputs": [],
   "source": []
  }
 ],
 "metadata": {
  "kernelspec": {
   "display_name": "Python 3",
   "language": "python",
   "name": "python3"
  },
  "language_info": {
   "codemirror_mode": {
    "name": "ipython",
    "version": 3
   },
   "file_extension": ".py",
   "mimetype": "text/x-python",
   "name": "python",
   "nbconvert_exporter": "python",
   "pygments_lexer": "ipython3",
   "version": "3.8.5"
  }
 },
 "nbformat": 4,
 "nbformat_minor": 4
}
